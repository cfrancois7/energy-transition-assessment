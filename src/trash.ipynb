{
 "cells": [
  {
   "cell_type": "markdown",
   "metadata": {},
   "source": [
    "# Trash code. Just in case"
   ]
  },
  {
   "cell_type": "code",
   "execution_count": null,
   "metadata": {},
   "outputs": [],
   "source": [
    "map_df_capacity_fr = df_capacity_fr[dict_map.keys()].rename(columns=dict_map)\n",
    "map_df_capacity_fr.head(2)\n",
    "\n",
    "map_df_prod_fr = df_prod_fr[dict_map.values()]\n",
    "map_df_prod_fr.head(2)\n",
    "\n",
    "df_capacity_fr = (pd.read_csv(PATH+'capacity_fr.csv', sep=';', false_values='*')\n",
    "                    .pivot_table(index='year', columns=\"technology\")\n",
    "                    .astype(float))['capacity']\n",
    "\n",
    "dict_map = {'Biomass': 'Biomasse',\n",
    "            'Fossil gas': 'Gaz',\n",
    "            'Fossil hard coal': 'Charbon',\n",
    "            'Fossil oil': 'Fioul',\n",
    "            'Hydro pumped storage': 'Hydraulique STEP',\n",
    "            'Hydro run of river and poundage': \"Hydraulique fil de l'eau / éclusée\",\n",
    "            'Hydro water reservoir': 'Hydraulique lacs',\n",
    "            'Nuclear': 'Nucléaire',\n",
    "            'Solar': 'Solaire',\n",
    "            'Wind onshore': 'Éolien terrestre'}"
   ]
  }
 ],
 "metadata": {
  "kernelspec": {
   "display_name": "Python 3",
   "language": "python",
   "name": "python3"
  },
  "language_info": {
   "codemirror_mode": {
    "name": "ipython",
    "version": 3
   },
   "file_extension": ".py",
   "mimetype": "text/x-python",
   "name": "python",
   "nbconvert_exporter": "python",
   "pygments_lexer": "ipython3",
   "version": "3.7.4"
  }
 },
 "nbformat": 4,
 "nbformat_minor": 4
}
