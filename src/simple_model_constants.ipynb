{
 "cells": [
  {
   "cell_type": "code",
   "execution_count": 101,
   "metadata": {},
   "outputs": [],
   "source": [
    "# import packages\n",
    "import pandas as pd\n",
    "import numpy as np\n",
    "import scipy as spy\n",
    "import matplotlib.pyplot as plt\n",
    "import seaborn as sns\n",
    "from matplotlib import rcParams\n",
    "rcParams['figure.figsize'] = (7, 5)\n",
    "from ftp_functions import * #listFtp(), downloadFile(), uploadFile(), password required."
   ]
  },
  {
   "cell_type": "code",
   "execution_count": 93,
   "metadata": {},
   "outputs": [],
   "source": [
    "PATH = '../data/'"
   ]
  },
  {
   "cell_type": "code",
   "execution_count": 112,
   "metadata": {},
   "outputs": [],
   "source": [
    "df_data_nationales = pd.read_pickle(PATH+'df_data_nationales.pkl')\n",
    "df_data_nationales.dropna(inplace=True)\n",
    "\n",
    "# df_prod_wind_solar =  pd.read_pickle(PATH+'solar_wind_2012_2019.pkl')\n",
    "# df_prod_wind_solar.fillna(value=0,inplace=True) #not sure if best method, maybe backfill instead?"
   ]
  },
  {
   "cell_type": "code",
   "execution_count": 113,
   "metadata": {},
   "outputs": [
    {
     "data": {
      "image/png": "[encoded data removed]",
      "text/plain": [
       "<Figure size 504x360 with 1 Axes>"
      ]
     },
     "metadata": {
      "needs_background": "light"
     },
     "output_type": "display_data"
    }
   ],
   "source": [
    "df_data_nationales.Consommation.rolling('7D').sum().plot();"
   ]
  },
  {
   "cell_type": "code",
   "execution_count": 299,
   "metadata": {},
   "outputs": [],
   "source": [
    "def modelConstantsAnnee(df,annee):\n",
    "    \"\"\" Return alpha = Rapport puissance eolien hiver sur ete. beta pour solaire, gamma pour hydro.\"\"\"\n",
    "    conso_max = df.loc[annee].Consommation.rolling('7D').sum().max()\n",
    "    week_max = df.loc[annee].Consommation.rolling('7D').sum()[df.loc[annee].Consommation.rolling('7D').sum() == conso_max].index[0]\n",
    "    if week_max.month >1:\n",
    "        month = week_max.month\n",
    "        month_before = week_max.replace(month=month-1)\n",
    "        month_after = week_max.replace(month=month+1)\n",
    "    else :\n",
    "        month_before = week_max.replace(month=12)\n",
    "        month_before = month_before.replace(year=int(annee)-1)\n",
    "        month_after = week_max.replace(month=2)        \n",
    "    prod_solaire_hiver = df.loc[month_before:month_after].Solaire.cumsum()[-1]\n",
    "    prod_eolien_hiver = df.loc[month_before:month_after].Eolien.cumsum()[-1]\n",
    "    prod_hydraulique_hiver = df.loc[month_before:month_after].Hydraulique.cumsum()[-1]\n",
    "    \n",
    "    conso_min = df.loc[annee].Consommation.rolling('7D').sum()[1000:].min() #slicing needed to avoid beginning of rolling.\n",
    "    week_min = df.loc[annee].Consommation.rolling('7D').sum()[df.loc[annee].Consommation.rolling('7D').sum() == conso_min].index[0]\n",
    "    month = week_min.month\n",
    "    month_before = week_min.replace(month=month-1)\n",
    "    month_after = week_min.replace(month=month+1)\n",
    "    prod_solaire_ete = df.loc[month_before:month_after].Solaire.cumsum()[-1]\n",
    "    prod_eolien_ete = df.loc[month_before:month_after].Eolien.cumsum()[-1]\n",
    "    prod_hydraulique_ete = df.loc[month_before:month_after].Hydraulique.cumsum()[-1]\n",
    "    \n",
    "    return prod_eolien_hiver/prod_eolien_ete, prod_solaire_hiver/prod_solaire_ete, prod_hydraulique_hiver/prod_hydraulique_ete"
   ]
  },
  {
   "cell_type": "code",
   "execution_count": 312,
   "metadata": {},
   "outputs": [],
   "source": [
    "def modelConstantsDistri(df):\n",
    "    annee_min = df.index[0].year\n",
    "    annee_max = df.index[-1].year\n",
    "    \n",
    "    constants = pd.DataFrame()\n",
    "    for annee in range(annee_min,annee_max+1):        \n",
    "        constants[str(annee)] = modelConstantsAnnee(df_data_nationales,str(annee))\n",
    "    \n",
    "    constants.rename(index={0:'alpha',1:'beta',2:'gamma'},inplace=True)\n",
    "    mean=constants.mean(axis=1)\n",
    "    std=constants.std(axis=1)\n",
    "    constants['Mean']=mean\n",
    "    constants['std']=std\n",
    "    \n",
    "    return constants"
   ]
  },
  {
   "cell_type": "code",
   "execution_count": 327,
   "metadata": {},
   "outputs": [
    {
     "data": {
      "text/html": [
       "<div>\n",
       "<style scoped>\n",
       "    .dataframe tbody tr th:only-of-type {\n",
       "        vertical-align: middle;\n",
       "    }\n",
       "\n",
       "    .dataframe tbody tr th {\n",
       "        vertical-align: top;\n",
       "    }\n",
       "\n",
       "    .dataframe thead th {\n",
       "        text-align: right;\n",
       "    }\n",
       "</style>\n",
       "<table border=\"1\" class=\"dataframe\">\n",
       "  <thead>\n",
       "    <tr style=\"text-align: right;\">\n",
       "      <th></th>\n",
       "      <th>2012</th>\n",
       "      <th>2013</th>\n",
       "      <th>2014</th>\n",
       "      <th>2015</th>\n",
       "      <th>2016</th>\n",
       "      <th>2017</th>\n",
       "      <th>2018</th>\n",
       "      <th>Mean</th>\n",
       "      <th>std</th>\n",
       "    </tr>\n",
       "  </thead>\n",
       "  <tbody>\n",
       "    <tr>\n",
       "      <th>alpha</th>\n",
       "      <td>1.429102</td>\n",
       "      <td>2.139531</td>\n",
       "      <td>2.501920</td>\n",
       "      <td>1.558292</td>\n",
       "      <td>2.917360</td>\n",
       "      <td>1.229051</td>\n",
       "      <td>2.419841</td>\n",
       "      <td>2.027871</td>\n",
       "      <td>0.632345</td>\n",
       "    </tr>\n",
       "    <tr>\n",
       "      <th>beta</th>\n",
       "      <td>0.386546</td>\n",
       "      <td>0.309581</td>\n",
       "      <td>0.322930</td>\n",
       "      <td>0.430331</td>\n",
       "      <td>0.319739</td>\n",
       "      <td>0.396955</td>\n",
       "      <td>0.505590</td>\n",
       "      <td>0.381667</td>\n",
       "      <td>0.071256</td>\n",
       "    </tr>\n",
       "    <tr>\n",
       "      <th>gamma</th>\n",
       "      <td>1.421105</td>\n",
       "      <td>1.451644</td>\n",
       "      <td>1.374105</td>\n",
       "      <td>1.846873</td>\n",
       "      <td>1.421057</td>\n",
       "      <td>1.439904</td>\n",
       "      <td>1.784277</td>\n",
       "      <td>1.534138</td>\n",
       "      <td>0.194607</td>\n",
       "    </tr>\n",
       "  </tbody>\n",
       "</table>\n",
       "</div>"
      ],
      "text/plain": [
       "           2012      2013      2014      2015      2016      2017      2018  \\\n",
       "alpha  1.429102  2.139531  2.501920  1.558292  2.917360  1.229051  2.419841   \n",
       "beta   0.386546  0.309581  0.322930  0.430331  0.319739  0.396955  0.505590   \n",
       "gamma  1.421105  1.451644  1.374105  1.846873  1.421057  1.439904  1.784277   \n",
       "\n",
       "           Mean       std  \n",
       "alpha  2.027871  0.632345  \n",
       "beta   0.381667  0.071256  \n",
       "gamma  1.534138  0.194607  "
      ]
     },
     "execution_count": 327,
     "metadata": {},
     "output_type": "execute_result"
    }
   ],
   "source": [
    "constants = modelConstantsDistri(df)\n",
    "constants"
   ]
  },
  {
   "cell_type": "code",
   "execution_count": 328,
   "metadata": {},
   "outputs": [
    {
     "name": "stdout",
     "output_type": "stream",
     "text": [
      "\\begin{tabular}{lrrrrrrrrr}\n",
      "\\toprule\n",
      "{} &  2012 &  2013 &  2014 &  2015 &  2016 &  2017 &  2018 &  Mean &   std \\\\\n",
      "\\midrule\n",
      "alpha &  1.43 &  2.14 &  2.50 &  1.56 &  2.92 &  1.23 &  2.42 &  2.03 &  0.63 \\\\\n",
      "beta  &  0.39 &  0.31 &  0.32 &  0.43 &  0.32 &  0.40 &  0.51 &  0.38 &  0.07 \\\\\n",
      "gamma &  1.42 &  1.45 &  1.37 &  1.85 &  1.42 &  1.44 &  1.78 &  1.53 &  0.19 \\\\\n",
      "\\bottomrule\n",
      "\\end{tabular}\n",
      "\n"
     ]
    }
   ],
   "source": [
    "constants = constants.apply(lambda x:round(x,2))\n",
    "print(constants.to_latex())"
   ]
  }
 ],
 "metadata": {
  "kernelspec": {
   "display_name": "Python 3",
   "language": "python",
   "name": "python3"
  },
  "language_info": {
   "codemirror_mode": {
    "name": "ipython",
    "version": 3
   },
   "file_extension": ".py",
   "mimetype": "text/x-python",
   "name": "python",
   "nbconvert_exporter": "python",
   "pygments_lexer": "ipython3",
   "version": "3.7.6"
  },
  "toc": {
   "base_numbering": 1,
   "nav_menu": {},
   "number_sections": true,
   "sideBar": true,
   "skip_h1_title": false,
   "title_cell": "Table of Contents",
   "title_sidebar": "Contents",
   "toc_cell": false,
   "toc_position": {},
   "toc_section_display": true,
   "toc_window_display": false
  }
 },
 "nbformat": 4,
 "nbformat_minor": 4
}
